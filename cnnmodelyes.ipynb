{
 "cells": [
  {
   "cell_type": "markdown",
   "id": "879582ec",
   "metadata": {},
   "source": []
  },
  {
   "cell_type": "code",
   "execution_count": null,
   "id": "7c4f9957",
   "metadata": {},
   "outputs": [],
   "source": [
    "%matplotlib inline\n",
    "from matplotlib import pyplot as plt\n",
    "import numpy as np"
   ]
  },
  {
   "cell_type": "code",
   "execution_count": 3,
   "id": "1aa819d7",
   "metadata": {},
   "outputs": [],
   "source": [
    "# Let's import Keras\n",
    "import keras\n",
    "from keras.datasets import mnist\n",
    "from keras.models import Sequential\n",
    "from keras.layers import Dense, Dropout, Flatten\n",
    "from keras.layers import Conv2D, MaxPooling2D\n",
    "from keras import backend as K"
   ]
  },
  {
   "cell_type": "markdown",
   "id": "3b4f7fa6",
   "metadata": {},
   "source": [
    "Dataset Preparation and Pre-Processing"
   ]
  },
  {
   "cell_type": "code",
   "execution_count": null,
   "id": "194d3446",
   "metadata": {},
   "outputs": [],
   "source": [
    "# Get image dimensions \n",
    "\n",
    "# Split into training and testing data \n",
    "\n",
    "\n",
    "# change data shape to be correct for keras\n",
    "if K.image_data_format() == 'channels_first':\n",
    "    x_train = x_train.reshape(x_train.shape[0], 1, img_rows, img_cols)\n",
    "    x_test = x_test.reshape(x_test.shape[0], 1, img_rows, img_cols)\n",
    "    input_shape = (1, img_rows, img_cols)\n",
    "else:\n",
    "    x_train = x_train.reshape(x_train.shape[0], img_rows, img_cols, 1)\n",
    "    x_test = x_test.reshape(x_test.shape[0], img_rows, img_cols, 1)\n",
    "    input_shape = (img_rows, img_cols, 1)\n",
    "\n",
    "# change data type to 32-bit float\n",
    "x_train = x_train.astype('float32')\n",
    "x_test = x_test.astype('float32')\n",
    "\n",
    "# scale data values to be between 0 and 1\n",
    "x_train /= 255\n",
    "x_test /= 255\n",
    "\n",
    "\n",
    "\n",
    "\n",
    "print('x_train shape:', x_train.shape)\n",
    "print(x_train.shape[0], 'train samples')\n",
    "print(x_test.shape[0], 'test samples')\n",
    "\n",
    "\n",
    "\n",
    "\n",
    "# Convert to one-hot labels \n",
    "\n",
    "num_classes = 10                # THIS NUMBER SHOULD CHANGE \n",
    "y_train = keras.utils.to_categorical(y_train_nums, num_classes)\n",
    "y_test = keras.utils.to_categorical(y_test_nums, num_classes)\n"
   ]
  },
  {
   "cell_type": "markdown",
   "id": "76a5b425",
   "metadata": {},
   "source": [
    "Build the model"
   ]
  },
  {
   "cell_type": "code",
   "execution_count": null,
   "id": "02b8ee6c",
   "metadata": {},
   "outputs": [],
   "source": [
    "# Prepares a model of a Neural Network that we will fit data to\n",
    "model = Sequential()\n",
    "model.add(Conv2D(32, kernel_size=(3, 3),\n",
    "                 activation='relu',\n",
    "                 input_shape=input_shape))\n",
    "model.add(Conv2D(64, (3, 3), activation='relu'))\n",
    "model.add(MaxPooling2D(pool_size=(2, 2)))\n",
    "model.add(Dropout(0.25))\n",
    "model.add(Flatten())\n",
    "model.add(Dense(128, activation='relu'))\n",
    "model.add(Dropout(0.5))\n",
    "model.add(Dense(num_classes, activation='softmax'))"
   ]
  },
  {
   "cell_type": "markdown",
   "id": "60e13853",
   "metadata": {},
   "source": [
    "Train the model using the training data "
   ]
  },
  {
   "cell_type": "code",
   "execution_count": null,
   "id": "cee0af19",
   "metadata": {},
   "outputs": [],
   "source": [
    "# setup loss function (cross-entropy) and optimiser (adam)\n",
    "model.compile(loss=keras.losses.categorical_crossentropy,\n",
    "              optimizer='adam',\n",
    "              metrics=['accuracy'])  # try 'fmeasure' for f1 score\n",
    "print(model.summary())\n",
    "# Conv2D layers: have biases by default\n",
    "# each filter (height x width x input channels) -> scalar response\n",
    "# accounting for padding too, out: (height (pad) x width (pad) x filters)"
   ]
  },
  {
   "cell_type": "markdown",
   "id": "f535600a",
   "metadata": {},
   "source": [
    "# train the model!\n",
    "batch_size = 128\n",
    "epochs = 12\n",
    "\n",
    "model.fit(x_train, y_train,\n",
    "          batch_size=batch_size,\n",
    "          epochs=epochs,\n",
    "          verbose=1,\n",
    "          validation_data=(x_test, y_test))"
   ]
  },
  {
   "cell_type": "markdown",
   "id": "e1d77502",
   "metadata": {},
   "source": [
    "Model evaluation "
   ]
  },
  {
   "cell_type": "code",
   "execution_count": null,
   "id": "85b2a652",
   "metadata": {},
   "outputs": [],
   "source": [
    "# evaluate trained model\n",
    "score = model.evaluate(x_test, y_test, verbose=0)\n",
    "print('Test loss:', score[0])\n",
    "print('Test accuracy:', score[1])\n",
    "\n",
    "# make predictions on the test data\n",
    "predictions = model.predict(x_test)\n",
    "predictions = np.argmax(predictions,axis=1)\n",
    "\n",
    "labels = np.argmax( y_test , axis=1 )"
   ]
  }
 ],
 "metadata": {
  "kernelspec": {
   "display_name": "Python 3",
   "language": "python",
   "name": "python3"
  },
  "language_info": {
   "codemirror_mode": {
    "name": "ipython",
    "version": 3
   },
   "file_extension": ".py",
   "mimetype": "text/x-python",
   "name": "python",
   "nbconvert_exporter": "python",
   "pygments_lexer": "ipython3",
   "version": "3.13.5"
  }
 },
 "nbformat": 4,
 "nbformat_minor": 5
}
