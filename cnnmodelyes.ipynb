{
 "cells": [
  {
   "cell_type": "markdown",
   "id": "879582ec",
   "metadata": {},
   "source": []
  },
  {
   "cell_type": "code",
   "execution_count": 3,
   "id": "7c4f9957",
   "metadata": {},
   "outputs": [],
   "source": [
    "%matplotlib inline\n",
    "from matplotlib import pyplot as plt\n",
    "import numpy as np"
   ]
  },
  {
   "cell_type": "code",
   "execution_count": 4,
   "id": "1aa819d7",
   "metadata": {},
   "outputs": [],
   "source": [
    "# Let's import Keras\n",
    "import keras\n",
    "from keras.datasets import mnist\n",
    "from keras.models import Sequential\n",
    "from keras.layers import Dense, Dropout, Flatten\n",
    "from keras.layers import Conv2D, MaxPooling2D\n",
    "from keras import backend as K"
   ]
  },
  {
   "cell_type": "markdown",
   "id": "3b4f7fa6",
   "metadata": {},
   "source": [
    "Dataset Preparation and Pre-Processing"
   ]
  },
  {
   "cell_type": "code",
   "execution_count": null,
   "id": "194d3446",
   "metadata": {},
   "outputs": [
    {
     "name": "stdout",
     "output_type": "stream",
     "text": [
      "455 196 455 196\n"
     ]
    },
    {
     "ename": "AttributeError",
     "evalue": "'list' object has no attribute 'reshape'",
     "output_type": "error",
     "traceback": [
      "\u001b[31m---------------------------------------------------------------------------\u001b[39m",
      "\u001b[31mAttributeError\u001b[39m                            Traceback (most recent call last)",
      "\u001b[36mCell\u001b[39m\u001b[36m \u001b[39m\u001b[32mIn[10]\u001b[39m\u001b[32m, line 35\u001b[39m\n\u001b[32m     33\u001b[39m     input_shape = (\u001b[32m1\u001b[39m, img_rows, img_cols)\n\u001b[32m     34\u001b[39m \u001b[38;5;28;01melse\u001b[39;00m:\n\u001b[32m---> \u001b[39m\u001b[32m35\u001b[39m     x_train = \u001b[43mx_train\u001b[49m\u001b[43m.\u001b[49m\u001b[43mreshape\u001b[49m(x_train.shape[\u001b[32m0\u001b[39m], img_rows, img_cols, \u001b[32m1\u001b[39m)\n\u001b[32m     36\u001b[39m     x_test = x_test.reshape(x_test.shape[\u001b[32m0\u001b[39m], img_rows, img_cols, \u001b[32m1\u001b[39m)\n\u001b[32m     37\u001b[39m     input_shape = (img_rows, img_cols, \u001b[32m1\u001b[39m)\n",
      "\u001b[31mAttributeError\u001b[39m: 'list' object has no attribute 'reshape'"
     ]
    }
   ],
   "source": [
    "# Get image dimensions \n",
    "\n",
    "# Split into training and testing data \n",
    "import os\n",
    "import cv2\n",
    "import sklearn\n",
    "\n",
    "xdata = []\n",
    "ydata = []\n",
    "\n",
    "for piece in os.listdir(\"chess_dataset\"):\n",
    "    for image in os.listdir(os.path.join(\"chess_dataset\", piece)):\n",
    "        if image.startswith('.'):\n",
    "            continue\n",
    "        src = os.path.join(\"chess_dataset\", piece, image)\n",
    "        img = cv2.imread(src, cv2.IMREAD_GRAYSCALE)\n",
    "        img_rows, img_cols = img.shape\n",
    "        ydata.append(piece)\n",
    "        xdata.append(img)\n",
    "\n",
    "xdata = np.array(xdata)\n",
    "ydata = np.array(ydata)\n",
    "\n",
    "RANDOM_SEED = 7\n",
    "    \n",
    "x_train, x_test, y_train, y_test = sklearn.model_selection.train_test_split(\n",
    "    xdata, ydata, test_size=0.3, random_state=RANDOM_SEED, stratify=ydata\n",
    ")\n",
    "\n",
    "print(len(x_train), len(x_test), len(y_train), len(y_test))\n",
    "\n",
    "# change data shape to be correct for keras\n",
    "if K.image_data_format() == 'channels_first':\n",
    "    x_train = x_train.reshape(x_train.shape[0], 1, img_rows, img_cols)\n",
    "    x_test = x_test.reshape(x_test.shape[0], 1, img_rows, img_cols)\n",
    "    input_shape = (1, img_rows, img_cols)\n",
    "else:\n",
    "    x_train = x_train.reshape(x_train.shape[0], img_rows, img_cols, 1)\n",
    "    x_test = x_test.reshape(x_test.shape[0], img_rows, img_cols, 1)\n",
    "    input_shape = (img_rows, img_cols, 1)\n",
    "\n",
    "# change data type to 32-bit float\n",
    "x_train = x_train.astype('float32')\n",
    "x_test = x_test.astype('float32')\n",
    "\n",
    "# scale data values to be between 0 and 1\n",
    "x_train /= 255\n",
    "x_test /= 255\n",
    "\n",
    "\n",
    "\n",
    "\n",
    "print('x_train shape:', x_train.shape)\n",
    "print(x_train.shape[0], 'train samples')\n",
    "print(x_test.shape[0], 'test samples')\n",
    "\n",
    "\n",
    "\n",
    "\n",
    "# Convert to one-hot labels \n",
    "\n",
    "num_classes = 5                # THIS NUMBER SHOULD CHANGE \n",
    "y_train = keras.utils.to_categorical(y_train, num_classes)\n",
    "y_test = keras.utils.to_categorical(y_test, num_classes)\n"
   ]
  },
  {
   "cell_type": "markdown",
   "id": "76a5b425",
   "metadata": {},
   "source": [
    "Build the model"
   ]
  },
  {
   "cell_type": "code",
   "execution_count": null,
   "id": "02b8ee6c",
   "metadata": {},
   "outputs": [],
   "source": [
    "# Prepares a model of a Neural Network that we will fit data to\n",
    "model = Sequential()\n",
    "model.add(Conv2D(32, kernel_size=(3, 3),\n",
    "                 activation='relu',\n",
    "                 input_shape=input_shape))\n",
    "model.add(Conv2D(64, (3, 3), activation='relu'))\n",
    "model.add(MaxPooling2D(pool_size=(2, 2)))\n",
    "model.add(Dropout(0.25))\n",
    "model.add(Flatten())\n",
    "model.add(Dense(128, activation='relu'))\n",
    "model.add(Dropout(0.5))\n",
    "model.add(Dense(num_classes, activation='softmax'))"
   ]
  },
  {
   "cell_type": "markdown",
   "id": "60e13853",
   "metadata": {},
   "source": [
    "Train the model using the training data "
   ]
  },
  {
   "cell_type": "code",
   "execution_count": null,
   "id": "cee0af19",
   "metadata": {},
   "outputs": [],
   "source": [
    "# setup loss function (cross-entropy) and optimiser (adam)\n",
    "model.compile(loss=keras.losses.categorical_crossentropy,\n",
    "              optimizer='adam',\n",
    "              metrics=['accuracy'])  # try 'fmeasure' for f1 score\n",
    "print(model.summary())\n",
    "# Conv2D layers: have biases by default\n",
    "# each filter (height x width x input channels) -> scalar response\n",
    "# accounting for padding too, out: (height (pad) x width (pad) x filters)"
   ]
  },
  {
   "cell_type": "markdown",
   "id": "f535600a",
   "metadata": {},
   "source": [
    "# train the model!\n",
    "batch_size = 128\n",
    "epochs = 12\n",
    "\n",
    "model.fit(x_train, y_train,\n",
    "          batch_size=batch_size,\n",
    "          epochs=epochs,\n",
    "          verbose=1,\n",
    "          validation_data=(x_test, y_test))"
   ]
  },
  {
   "cell_type": "markdown",
   "id": "e1d77502",
   "metadata": {},
   "source": [
    "Model evaluation "
   ]
  },
  {
   "cell_type": "code",
   "execution_count": null,
   "id": "85b2a652",
   "metadata": {},
   "outputs": [],
   "source": [
    "# evaluate trained model\n",
    "score = model.evaluate(x_test, y_test, verbose=0)\n",
    "print('Test loss:', score[0])\n",
    "print('Test accuracy:', score[1])\n",
    "\n",
    "# make predictions on the test data\n",
    "predictions = model.predict(x_test)\n",
    "predictions = np.argmax(predictions,axis=1)\n",
    "\n",
    "labels = np.argmax( y_test , axis=1 )"
   ]
  }
 ],
 "metadata": {
  "kernelspec": {
   "display_name": "computer_vision",
   "language": "python",
   "name": "python3"
  },
  "language_info": {
   "codemirror_mode": {
    "name": "ipython",
    "version": 3
   },
   "file_extension": ".py",
   "mimetype": "text/x-python",
   "name": "python",
   "nbconvert_exporter": "python",
   "pygments_lexer": "ipython3",
   "version": "3.13.9"
  }
 },
 "nbformat": 4,
 "nbformat_minor": 5
}
